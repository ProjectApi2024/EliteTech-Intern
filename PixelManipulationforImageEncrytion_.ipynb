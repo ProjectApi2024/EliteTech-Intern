{
  "nbformat": 4,
  "nbformat_minor": 0,
  "metadata": {
    "colab": {
      "provenance": [],
      "authorship_tag": "ABX9TyPwV+qTYR0vUBqn791Vh4oq",
      "include_colab_link": true
    },
    "kernelspec": {
      "name": "python3",
      "display_name": "Python 3"
    },
    "language_info": {
      "name": "python"
    }
  },
  "cells": [
    {
      "cell_type": "markdown",
      "metadata": {
        "id": "view-in-github",
        "colab_type": "text"
      },
      "source": [
        "<a href=\"https://colab.research.google.com/github/ProjectApi2024/EliteTech-Intern/blob/main/PixelManipulationforImageEncrytion_.ipynb\" target=\"_parent\"><img src=\"https://colab.research.google.com/assets/colab-badge.svg\" alt=\"Open In Colab\"/></a>"
      ]
    },
    {
      "cell_type": "markdown",
      "source": [
        "#Program For Pixel Manipulation For Image Encrpytion"
      ],
      "metadata": {
        "id": "0PKRqbwz3Nx2"
      }
    },
    {
      "cell_type": "code",
      "execution_count": 2,
      "metadata": {
        "colab": {
          "base_uri": "https://localhost:8080/"
        },
        "id": "1LNA0DFU3GsE",
        "outputId": "d758e471-cbbd-41bc-f8f7-7e94efbf5858"
      },
      "outputs": [
        {
          "output_type": "stream",
          "name": "stdout",
          "text": [
            "Image encrypted successfully!\n",
            "Image decrypted successfully!\n"
          ]
        }
      ],
      "source": [
        "from PIL import Image\n",
        "\n",
        "def encrypt_image(input_path, output_path, key):\n",
        "    img = Image.open(input_path)\n",
        "    pixels = img.load()\n",
        "\n",
        "    width, height = img.size\n",
        "\n",
        "    for i in range(width):\n",
        "        for j in range(height):\n",
        "            r, g, b = pixels[i, j]\n",
        "\n",
        "            # swapping red and blue channels\n",
        "            encrypted_pixel = (b, g, r)\n",
        "\n",
        "            pixels[i, j] = encrypted_pixel\n",
        "\n",
        "    img.save(output_path)\n",
        "    print(\"Image encrypted successfully!\")\n",
        "\n",
        "def decrypt_image(input_path, output_path, key):\n",
        "    img = Image.open(input_path)\n",
        "    pixels = img.load()\n",
        "\n",
        "    width, height = img.size\n",
        "\n",
        "    for i in range(width):\n",
        "        for j in range(height):\n",
        "            r, g, b = pixels[i, j]\n",
        "\n",
        "            # swapping red and blue channels back\n",
        "            decrypted_pixel = (b, g, r)\n",
        "\n",
        "            pixels[i, j] = decrypted_pixel\n",
        "\n",
        "    img.save(output_path)\n",
        "    print(\"Image decrypted successfully!\")\n",
        "\n",
        " # image path\n",
        "input_image = r\"/content/indianFlag.jpg\"\n",
        "encrypted_image = r\"iencrypted_image.jpg\"\n",
        "decrypted_image = r\"idecrypted_image.jpg\"\n",
        "\n",
        "\n",
        "# Encrypt the image\n",
        "encrypt_image(input_image, encrypted_image, key=None)\n",
        "\n",
        "# Decrypt the image\n",
        "decrypt_image(encrypted_image, decrypted_image, key=None)\n",
        ""
      ]
    }
  ]
}